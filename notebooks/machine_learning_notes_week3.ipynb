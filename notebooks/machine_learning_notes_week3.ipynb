{
 "cells": [
  {
   "cell_type": "code",
   "execution_count": 2,
   "metadata": {
    "collapsed": true
   },
   "outputs": [],
   "source": [
    "%matplotlib inline"
   ]
  },
  {
   "cell_type": "code",
   "execution_count": 3,
   "metadata": {
    "collapsed": true
   },
   "outputs": [],
   "source": [
    "import numpy as np\n",
    "import matplotlib.pyplot as plt"
   ]
  },
  {
   "cell_type": "markdown",
   "metadata": {},
   "source": [
    "# Machine Learning - Week 3\n",
    "## Logistic Regression"
   ]
  },
  {
   "cell_type": "markdown",
   "metadata": {},
   "source": [
    "Logistic regression is essentially a classification method where you are attempting perform an either-or classification on a dataset.  An example could be trying to predict if an o-ring on a rocket would fail, given the outside temperature, or if a tumor is malignant or not given its size and other variables (or \"features\" in machine learning parlance).  The dataset is set up in a way that y is either 0 or 1. "
   ]
  },
  {
   "cell_type": "code",
   "execution_count": 40,
   "metadata": {
    "collapsed": false
   },
   "outputs": [
    {
     "data": {
      "image/png": "[encoded data removed]",
      "text/plain": [
       "<matplotlib.figure.Figure at 0x10ccdb110>"
      ]
     },
     "metadata": {},
     "output_type": "display_data"
    }
   ],
   "source": [
    "x = np.linspace(-5,5)\n",
    "y = np.zeros(x.shape)\n",
    "for i in range(0, x.size):\n",
    "    if x[i] + 2*np.random.randn(1) > 0:        \n",
    "        y[i] = 1\n",
    "fig, ax = plt.subplots(1, 1, figsize=(6,3))\n",
    "ax.plot(x, y, 'o');"
   ]
  },
  {
   "cell_type": "markdown",
   "metadata": {},
   "source": [
    "In order to correctly classify this type of dataset, we need our hypothesis ($h_{\\theta}(x)$) to be between 0 and 1.  So we want $0 \\le h_{\\theta}(x) \\le 1$.  One candidate function is the logistic function, $g(z) = \\frac{1}{1+e^{-z}}$.  Putting this into our hypothesis function, gives us $h_{\\theta}(x) = \\frac{1}{1+e^{-\\theta^Tx}}$, where $\\theta$ is the parameters of our model.  We can interpret this as the probability that $y$ is 1, for a given $x$ and fitted parameters $\\theta$.  Or, mathematically, $P(y=1|x;\\theta)$.  "
   ]
  },
  {
   "cell_type": "code",
   "execution_count": 5,
   "metadata": {
    "collapsed": true
   },
   "outputs": [],
   "source": [
    "def logistic(z):\n",
    "    return 1./(1.+np.exp(-z))"
   ]
  },
  {
   "cell_type": "code",
   "execution_count": 6,
   "metadata": {
    "collapsed": false
   },
   "outputs": [
    {
     "data": {
      "image/png": "[encoded data removed]",
      "text/plain": [
       "<matplotlib.figure.Figure at 0x10c69b050>"
      ]
     },
     "metadata": {},
     "output_type": "display_data"
    }
   ],
   "source": [
    "fig, ax = plt.subplots(1, 1, figsize=(6,3))\n",
    "z = np.linspace(-5,5)\n",
    "ax.plot(z, logistic(z), '-');"
   ]
  },
  {
   "cell_type": "markdown",
   "metadata": {
    "collapsed": true
   },
   "source": [
    "This allows us to set a **decision boundary**.  This is a rule that we set for the prediction of our class.  So we can say \"predict y=1\" if $h_{\\theta}(x) \\ge 0.5$, this implies that $\\theta^T x \\ge 0$. Similarly,  we \"predict y=0\" if $h_{\\theta}(x) \\lt 0.5$, this implies that $\\theta^T x \\lt 0$."
   ]
  },
  {
   "cell_type": "code",
   "execution_count": 9,
   "metadata": {
    "collapsed": false
   },
   "outputs": [
    {
     "data": {
      "image/png": "[encoded data removed]",
      "text/plain": [
       "<matplotlib.figure.Figure at 0x10d41e210>"
      ]
     },
     "metadata": {},
     "output_type": "display_data"
    }
   ],
   "source": [
    "fig, ax = plt.subplots(1, 1, figsize=(6,3))\n",
    "z = np.linspace(-5,5)\n",
    "ax.plot(z, logistic(z), '-')\n",
    "ax.axvline(x=0, color='tomato')\n",
    "ax.set_ylabel(r'$h_{\\theta}$')\n",
    "ax.set_xlabel(r'$\\theta^T x$');"
   ]
  },
  {
   "cell_type": "markdown",
   "metadata": {},
   "source": [
    "### Fitting a logistic regression model\n",
    "The $cost$ function for a logistic regession looks like this:\n",
    "$$\n",
    "Cost(h_{\\theta}(x), y) =     \n",
    "        \\begin{cases}\n",
    "          -log(h_{\\theta}(x)), & \\text{if}\\ y = 1 \\\\\n",
    "          -log(1 - h_{\\theta}(x)), & \\text{if}\\ y = 0\n",
    "        \\end{cases}\n",
    "$$\n",
    "\n",
    "So, if y = 1, $Cost = 0$, if $h_{\\theta}(x)=1$, but as $h_{\\theta}(x) \\rightarrow 0$, $Cost \\rightarrow \\infty$.  Likewise, if y = 0, $Cost = 0$, if $h_{\\theta}(x)=0$, but as $h_{\\theta}(x) \\rightarrow 1$, $Cost \\rightarrow \\infty$. There is a high penalty for the incorrect classification.\n",
    "\n",
    "The $Cost$ function can be re-written as\n",
    "$$\n",
    "Cost(h_{\\theta}(x), y) = -y log(h_{\\theta}(x)) - (1-y) log(1 - h_{\\theta}(x))\n",
    "$$\n",
    "\n",
    "and then,\n",
    "\n",
    "$$\n",
    "J(\\theta) = \\frac{1}{m}\\sum_{i=1}^m Cost(h_{\\theta}(x^{(i)}), y^{(i)})\n",
    "$$\n",
    "or,\n",
    "$$\n",
    "J(\\theta) = \\frac{-1}{m}\\sum_{i=1}^m [y^{(i)} log(h_{\\theta}(x^{(i)})) - (1-y^{(i)}) log(1 - h_{\\theta}(x^{(i)})])\n",
    "$$\n",
    "\n",
    "To find the parameters $\\theta$ we need to minimise $J(\\theta)$ over $\\theta$.  To find $min_{\\theta}J(\\theta)$:\n",
    "\n",
    "repeat { $\\theta_j := \\theta_j - \\alpha \\frac{\\partial}{\\partial \\theta_j}J(\\theta)$}\n",
    "\n",
    "In this case, $\\frac{\\partial}{\\partial \\theta_j}J(\\theta)$ reduces to ($h_{\\theta}(x)- y)x$.\n",
    "\n",
    "\n",
    "Implementing this for the dataset above:"
   ]
  },
  {
   "cell_type": "code",
   "execution_count": 31,
   "metadata": {
    "collapsed": false
   },
   "outputs": [],
   "source": [
    "def diff_j(theta, x, y):\n",
    "    '''The differential of the cost function'''\n",
    "    \n",
    "    return 1.0/(np.size(x)) * np.sum((logistic(theta*x) - y)*x)\n",
    "\n",
    "def log_cost_func(theta, x, y):\n",
    "    \n",
    "    return -1. * np.sum(y * np.log(logistic(theta*x)) + (1. - y)*np.log(1. - logistic(theta*x)))\n",
    "\n",
    "def update_j(theta, x, y, alpha):\n",
    "    \n",
    "    #calculate the partial diff\n",
    "    d_j = diff_j(theta, x, y)\n",
    "    #update theta_1\n",
    "    temp_theta = theta - alpha * d_j\n",
    "    theta = temp_theta\n",
    "    \n",
    "    #calculate the cost function with the new theta\n",
    "    j = log_cost_func(theta, x, y)\n",
    "    return j, theta\n",
    "    "
   ]
  },
  {
   "cell_type": "code",
   "execution_count": 41,
   "metadata": {
    "collapsed": false
   },
   "outputs": [
    {
     "name": "stdout",
     "output_type": "stream",
     "text": [
      "Final J: 18.3, theta_1: 0.618\n"
     ]
    }
   ],
   "source": [
    "theta_1 = 0.5\n",
    "j_n1 = log_cost_func(theta_1, x, y)\n",
    "alpha = 0.0001\n",
    "j = 0.\n",
    "tol = 0.0001\n",
    "# perform update until change in J is within some tolerance level\n",
    "while np.abs(j - j_n1) > tol:\n",
    "    j_n1 = j\n",
    "    j, theta_1 = update_j(theta_1, x, y, alpha)\n",
    "#     print 'updated J: %s, theta_1: %s' %('{0:0.1f}'.format(j), '{0:0.3f}'.format(theta_1))\n",
    "    \n",
    "print 'Final J: %s, theta_1: %s' %('{0:0.1f}'.format(j), '{0:0.3f}'.format(theta_1))"
   ]
  },
  {
   "cell_type": "code",
   "execution_count": 44,
   "metadata": {
    "collapsed": true
   },
   "outputs": [],
   "source": [
    "def classify(theta, x, db=0.0):\n",
    "    classified_points = np.zeros(x.shape)\n",
    "    classified_points[theta*x>=db] = 1\n",
    "    classified_points[theta*x<db] = 0\n",
    "    return classified_points"
   ]
  },
  {
   "cell_type": "markdown",
   "metadata": {},
   "source": [
    "We can then apply the decision boundary from above, and classify each of the points.  The miss-classified points are circled in red.  In this case the classification is fairly trivial, but the process would be the same for a case with more parameters."
   ]
  },
  {
   "cell_type": "code",
   "execution_count": 50,
   "metadata": {
    "collapsed": false
   },
   "outputs": [
    {
     "data": {
      "image/png": "[encoded data removed]",
      "text/plain": [
       "<matplotlib.figure.Figure at 0x10e8f1ad0>"
      ]
     },
     "metadata": {},
     "output_type": "display_data"
    }
   ],
   "source": [
    "cp = classify(theta_1, x)\n",
    "fig, ax = plt.subplots(1, 1, figsize=(6,3))\n",
    "ax.plot(x, y, 'o')\n",
    "ax.plot(x, logistic(theta_1*x))\n",
    "\n",
    "for xi, yi, cpi in zip(x, y, cp):\n",
    "    if yi != cpi:\n",
    "        ax.plot(xi, yi, 'o', markeredgecolor='tomato', markerfacecolor='none', markersize=15)"
   ]
  },
  {
   "cell_type": "markdown",
   "metadata": {},
   "source": [
    "In the case of a mulitple classification, you would set up multiple hypothesis where each hypothesis classified one of the classes as 1 and the remaining as 0.  Then the same process would be followed and a decision boundary created to classify the points.\n",
    "\n",
    "## Overfitting\n",
    "\n",
    "Too many features will result in the learned hypothesis fitting the trainign data very well, but failing to generalise to new examples. There are a couple of options to deal with this problem.\n",
    "\n",
    "1. Reduce the number of features:\n",
    "    - manually select which features to keep (but can lead to model selction bias)\n",
    "2. Regularization:\n",
    "    - keep all the features, but reduce the magnitude/values of parameter $\\theta_j$\n",
    "    - works when there are a lot of features that all contribute to y.\n",
    "    \n",
    "#### Regularization\n",
    "This works by modifiying the $Cost$ function:\n",
    "$$\n",
    "J(\\theta) = \\frac{1}{2m}[\\sum^m_{i=1}(h_{\\theta}(x^{(i)}) - y^{(i)})^2 + \\lambda \\sum^n_{j=1}\\theta^2_j]\n",
    "$$\n",
    "\n",
    "The $\\lambda \\sum^n_{j=1}\\theta^2_j$ forces a trade-off between minimising the cost and keeping the parameters small."
   ]
  },
  {
   "cell_type": "code",
   "execution_count": null,
   "metadata": {
    "collapsed": true
   },
   "outputs": [],
   "source": []
  }
 ],
 "metadata": {
  "anaconda-cloud": {},
  "kernelspec": {
   "display_name": "Python [Root]",
   "language": "python",
   "name": "Python [Root]"
  },
  "language_info": {
   "codemirror_mode": {
    "name": "ipython",
    "version": 2
   },
   "file_extension": ".py",
   "mimetype": "text/x-python",
   "name": "python",
   "nbconvert_exporter": "python",
   "pygments_lexer": "ipython2",
   "version": "2.7.12"
  }
 },
 "nbformat": 4,
 "nbformat_minor": 0
}
