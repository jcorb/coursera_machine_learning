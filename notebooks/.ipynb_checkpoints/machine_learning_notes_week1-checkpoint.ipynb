{
 "cells": [
  {
   "cell_type": "code",
   "execution_count": 1,
   "metadata": {
    "collapsed": true
   },
   "outputs": [],
   "source": [
    "%matplotlib inline"
   ]
  },
  {
   "cell_type": "code",
   "execution_count": 2,
   "metadata": {
    "collapsed": true
   },
   "outputs": [],
   "source": [
    "import numpy as np\n",
    "import matplotlib.pyplot as plt"
   ]
  },
  {
   "cell_type": "markdown",
   "metadata": {},
   "source": [
    "# Machine Learning Notes - Week 1\n",
    "\n",
    "This was the introductory lectures for the Stanford Machine Learning course on Coursera. It mainly introduced what machine learning is and gave some examples.  It also introduced the Cost function and how that is used, and gave an overview of the Gradient Descent Method for minimising the cost function.\n",
    "\n",
    "## What is machine learning?\n",
    "More than one definition exists, but a prominent one, given by Mitchell is:\n",
    "\n",
    "    \"A computer program is said to learn from experience, E, with respect to some task, T, and some performance measure, P, if its performance on T, as measured by P, improves with E.\"\n",
    "\n",
    "Which I think is a nice defintion.\n",
    "\n",
    "The two main classes of machine learning that will be covered in this course are supervised and unsupervised learning.  Others exist though, such as re-inforcement learing and recommender systems.  \n",
    "\n",
    "## supervised learning\n",
    "\n",
    "Supervised learing is essentially fitting a \"function\" to exisiting data and using that to predict outcomes.  This could be the use of regression, where you are trying to predict a continous (or near-continous, such as dollars) value given a set of inputs, or classification where you are trying to predict to what discrete class a set of inputs belongs.  In both cases, the key factor is that you have the right answer when fitting your function.  An example would be predicting house prices based on floor size (regression), or determining if an email is spam or not (classification).\n",
    "\n",
    "## unsupervised learning\n",
    "\n",
    "Unsupervised learning is when you do not have the right answer prior to building your model.  An example of this would be market segmentation analysis where you use the data to define your segments.  One example given was the \"Cocktail Party\" problem where you are trying to distinguish overlapping voices and other sounds using multiple microphones.\n"
   ]
  },
  {
   "cell_type": "markdown",
   "metadata": {},
   "source": [
    "## Linear Regression\n",
    "\n",
    "This is an example of supervised learning and was used to introduce the Cost function and the Gradient Descent method of parameter estimation.  I am going to work through the example below.\n",
    "\n",
    "Some defintions:\n",
    "\n",
    "$m$ = number of training examples \n",
    "\n",
    "$x$ = \"input\" variable\n",
    "\n",
    "$y$ = \"output\" variable\n",
    "\n",
    "$(x, y)$ -> one training example\n",
    "\n",
    "$(x^i, y^i)$ -> $i$th training example\n",
    "\n",
    "\n",
    "### model representation\n",
    "\n",
    "The basic model setup is this:  \n",
    "\n",
    "Training set --> Learning algorithm --> h \"hypothesis\"\n",
    "\n",
    "then,\n",
    "\n",
    "$x$ --> h --> $y$\n",
    "\n",
    "So, h maps from the inputs $x$ to the ouput $y$.  For a univariate linear model:\n",
    "\n",
    "$\n",
    "h_{\\theta}(x) = \\theta_0 + \\theta_1 x\n",
    "$"
   ]
  },
  {
   "cell_type": "markdown",
   "metadata": {},
   "source": [
    "### Cost function\n",
    "\n",
    "The cost function introduced in this lecture was the minimmum squared error function.  Basically, the idea is to find the $\\theta_0$ and $\\theta_1$ that miminize the sum of the squared differences between the predicted value and the trainig value:\n",
    "\n",
    "$\n",
    "\\frac{minimize}{\\theta_0, \\theta_1}J(\\theta_0, \\theta_1)\n",
    "$\n",
    "\n",
    "where $J(\\theta_0, \\theta_1)$ is the cost function,\n",
    "\n",
    "$\n",
    "J(\\theta_0, \\theta_1) = \\frac{1}{2m}\\sum^m_{i=1}(h_{\\theta}(x^i)-y^i)^2\n",
    "$\n",
    "\n",
    "So, an example, setting $\\theta_0$ = 0 for simplification, and using a \"true\" value of $\\theta_1$ = 1"
   ]
  },
  {
   "cell_type": "code",
   "execution_count": 3,
   "metadata": {
    "collapsed": true
   },
   "outputs": [],
   "source": [
    "#this is the cost function\n",
    "def cost_func(theta_0, theta_1, x, y):\n",
    "    return 1.0/(2 * np.size(x)) * np.sum((theta_0 + theta_1 * x - y)**2)"
   ]
  },
  {
   "cell_type": "code",
   "execution_count": 8,
   "metadata": {
    "collapsed": false
   },
   "outputs": [
    {
     "data": {
      "image/png": "[encoded data removed]",
      "text/plain": [
       "<matplotlib.figure.Figure at 0x10da3ded0>"
      ]
     },
     "metadata": {},
     "output_type": "display_data"
    }
   ],
   "source": [
    "x = np.arange(0,100,2)\n",
    "y = x + np.random.normal(0, 5, 50)\n",
    "theta_0 = 0.0\n",
    "theta_1s = []\n",
    "js = []\n",
    "# loop over some theta_1 possibilities\n",
    "for theta_1 in np.arange(-2,3, 0.5):\n",
    "    j = cost_func(theta_0, theta_1, x, y)\n",
    "    theta_1s.append(theta_1)\n",
    "    js.append(j)\n",
    "    \n",
    "fig, ax = plt.subplots(1,2)\n",
    "ax[0].plot(x, y, 'x', color='tomato')\n",
    "ax[1].plot(theta_1s, js, 'o-')\n",
    "ax[0].set_title('Training Data')\n",
    "ax[1].set_ylabel('J')\n",
    "ax[1].set_xlabel(r'$\\theta_1$')\n",
    "ax[1].set_title('Cost function');"
   ]
  },
  {
   "cell_type": "markdown",
   "metadata": {
    "collapsed": false
   },
   "source": [
    "As expected, this gives us a minimum at $\\theta_1$ = 1.  If we were using $\\theta_0$ as well, we would end up with a 2-D mapping instead of just the 1-D line."
   ]
  },
  {
   "cell_type": "markdown",
   "metadata": {
    "collapsed": true
   },
   "source": [
    "### Gradient Descent\n",
    "\n",
    "One method for locating the minimum of the cost function is the Gradient Descent method.  The basic idea is that after starting with some intial $\\theta$ values, the $\\theta$ values are then updated in small steps, while moving along the gradient of the cost function until a local minimum is reached. The algrorithm is thus:\n",
    "\n",
    "repeat until convergence:\n",
    "\n",
    "$\n",
    "\\theta_j := \\theta_j - \\alpha \\frac{\\partial}{\\partial \\theta_j} J(\\theta_0, \\theta_1)\n",
    "$\n",
    "\n",
    "for j = 0, 1 (for models with $n$ parameters to be estimated this would go to $n$).  \n",
    "\n",
    "$\\alpha$ is the learning rate, which determines the step size of the updates.  If this is too small it can take a long time to converge, if its too large, the algorithm can mis-estimate the parameters or even diverge.  The neat thing about this algorthim is that as you get closer to the minimum, the gradient gets smaller resulting in the step sizes getting smaller.\n",
    "\n",
    "Implementing this for the example above:"
   ]
  },
  {
   "cell_type": "code",
   "execution_count": 31,
   "metadata": {
    "collapsed": false
   },
   "outputs": [],
   "source": [
    "def diff_j(theta_1, x, y):\n",
    "    '''The differential of the cost function'''\n",
    "    \n",
    "    return 1.0/(np.size(x)) * np.sum((theta_1 * x - y)*x)\n",
    "\n",
    "def update_j(theta_1, x, y, alpha):\n",
    "    \n",
    "    #calculate the partial diff\n",
    "    d_j = diff_j(theta_1, x, y)\n",
    "\n",
    "    #update theta_1\n",
    "    temp_theta = theta_1 - alpha * d_j\n",
    "    theta_1 = temp_theta\n",
    "    \n",
    "    #calculate the cost function with the new theta_1\n",
    "    j = cost_func(0.0, theta_1, x, y)\n",
    "    \n",
    "    return j, theta_1\n",
    "    "
   ]
  },
  {
   "cell_type": "code",
   "execution_count": 41,
   "metadata": {
    "collapsed": false
   },
   "outputs": [
    {
     "name": "stdout",
     "output_type": "stream",
     "text": [
      "updated J: 11921.1, theta_1: 3.703\n",
      "updated J: 5464.3, theta_1: 2.825\n",
      "updated J: 2508.5, theta_1: 2.231\n",
      "updated J: 1155.4, theta_1: 1.830\n",
      "updated J: 536.0, theta_1: 1.558\n",
      "updated J: 252.4, theta_1: 1.374\n",
      "updated J: 122.6, theta_1: 1.250\n",
      "updated J: 63.1, theta_1: 1.165\n",
      "updated J: 35.9, theta_1: 1.108\n",
      "updated J: 23.5, theta_1: 1.070\n",
      "updated J: 17.8, theta_1: 1.044\n",
      "updated J: 15.2, theta_1: 1.026\n",
      "updated J: 14.0, theta_1: 1.014\n",
      "updated J: 13.4, theta_1: 1.006\n",
      "Final J: 13.4, theta_1: 1.006\n"
     ]
    }
   ],
   "source": [
    "theta_1 = 5.\n",
    "j_n1 = cost_func(0.0, theta_1, x, y)\n",
    "alpha = 0.0001\n",
    "j = 0.\n",
    "tol = 1.\n",
    "# perform update until change in J is within some tolerance level\n",
    "while np.abs(j - j_n1) > tol:\n",
    "    j_n1 = j\n",
    "    j, theta_1 = update_j(theta_1, x, y, alpha)\n",
    "    print 'updated J: %s, theta_1: %s' %('{0:0.1f}'.format(j), '{0:0.3f}'.format(theta_1))\n",
    "    \n",
    "print 'Final J: %s, theta_1: %s' %('{0:0.1f}'.format(j), '{0:0.3f}'.format(theta_1))"
   ]
  },
  {
   "cell_type": "markdown",
   "metadata": {},
   "source": [
    "So we get convergence at $\\theta_1$ = 1, as we would expect.  If we start with a $\\theta_1$ value less than 0, we get a simialr result:"
   ]
  },
  {
   "cell_type": "code",
   "execution_count": 44,
   "metadata": {
    "collapsed": false
   },
   "outputs": [
    {
     "name": "stdout",
     "output_type": "stream",
     "text": [
      "updated J: 26565.6, theta_1: -3.063\n",
      "updated J: 12168.4, theta_1: -1.753\n",
      "updated J: 5577.6, theta_1: -0.866\n",
      "updated J: 2560.4, theta_1: -0.266\n",
      "updated J: 1179.1, theta_1: 0.140\n",
      "updated J: 546.8, theta_1: 0.415\n",
      "updated J: 257.3, theta_1: 0.600\n",
      "updated J: 124.8, theta_1: 0.726\n",
      "updated J: 64.2, theta_1: 0.811\n",
      "updated J: 36.4, theta_1: 0.869\n",
      "updated J: 23.7, theta_1: 0.908\n",
      "updated J: 17.9, theta_1: 0.934\n",
      "updated J: 15.2, theta_1: 0.952\n",
      "updated J: 14.0, theta_1: 0.964\n",
      "updated J: 13.4, theta_1: 0.972\n",
      "updated J: 13.2, theta_1: 0.978\n",
      "updated J: 13.1, theta_1: 0.981\n",
      "updated J: 13.0, theta_1: 0.984\n",
      "Final J: 13.0, theta_1: 0.984\n"
     ]
    }
   ],
   "source": [
    "theta_1 = -5.\n",
    "j_n1 = cost_func(0.0, theta_1, x, y)\n",
    "alpha = 0.0001\n",
    "j = 0.\n",
    "tol = 0.1\n",
    "# perform update until change in J is within some tolerance level\n",
    "while np.abs(j - j_n1) > tol:\n",
    "    j_n1 = j\n",
    "    j, theta_1 = update_j(theta_1, x, y, alpha)\n",
    "    print 'updated J: %s, theta_1: %s' %('{0:0.1f}'.format(j), '{0:0.3f}'.format(theta_1))\n",
    "    \n",
    "print 'Final J: %s, theta_1: %s' %('{0:0.1f}'.format(j), '{0:0.3f}'.format(theta_1))"
   ]
  },
  {
   "cell_type": "markdown",
   "metadata": {},
   "source": [
    "Nice! \n",
    "\n",
    "Playing with the alpha and tolerance level can give better results.\n",
    "\n",
    "Thats the end of the first week of lectures."
   ]
  }
 ],
 "metadata": {
  "anaconda-cloud": {},
  "kernelspec": {
   "display_name": "Python [Root]",
   "language": "python",
   "name": "Python [Root]"
  },
  "language_info": {
   "codemirror_mode": {
    "name": "ipython",
    "version": 2
   },
   "file_extension": ".py",
   "mimetype": "text/x-python",
   "name": "python",
   "nbconvert_exporter": "python",
   "pygments_lexer": "ipython2",
   "version": "2.7.12"
  }
 },
 "nbformat": 4,
 "nbformat_minor": 0
}
