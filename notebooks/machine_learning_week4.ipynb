{
 "cells": [
  {
   "cell_type": "code",
   "execution_count": 2,
   "metadata": {
    "collapsed": true
   },
   "outputs": [],
   "source": [
    "%matplotlib inline"
   ]
  },
  {
   "cell_type": "code",
   "execution_count": 3,
   "metadata": {
    "collapsed": true
   },
   "outputs": [],
   "source": [
    "import numpy as np\n",
    "import matplotlib.pyplot as plt"
   ]
  },
  {
   "cell_type": "code",
   "execution_count": 4,
   "metadata": {
    "collapsed": false
   },
   "outputs": [],
   "source": [
    "def draw_neural_net(ax, left, right, bottom, top, layer_sizes, labels=False):\n",
    "    '''\n",
    "    Draw a neural network cartoon using matplotilb.\n",
    "    \n",
    "    :usage:\n",
    "        >>> fig = plt.figure(figsize=(12, 12))\n",
    "        >>> draw_neural_net(fig.gca(), .1, .9, .1, .9, [4, 7, 2])\n",
    "    \n",
    "    :parameters:\n",
    "        - ax : matplotlib.axes.AxesSubplot\n",
    "            The axes on which to plot the cartoon (get e.g. by plt.gca())\n",
    "        - left : float\n",
    "            The center of the leftmost node(s) will be placed here\n",
    "        - right : float\n",
    "            The center of the rightmost node(s) will be placed here\n",
    "        - bottom : float\n",
    "            The center of the bottommost node(s) will be placed here\n",
    "        - top : float\n",
    "            The center of the topmost node(s) will be placed here\n",
    "        - layer_sizes : list of int\n",
    "            List of layer sizes, including input and output dimensionality\n",
    "    '''\n",
    "    n_layers = len(layer_sizes)\n",
    "    v_spacing = (top - bottom)/float(max(layer_sizes))\n",
    "    h_spacing = (right - left)/float(len(layer_sizes) - 1)\n",
    "    # Nodes\n",
    "    for n, layer_size in enumerate(layer_sizes):\n",
    "        layer_top = v_spacing*(layer_size - 1)/2. + (top + bottom)/2.\n",
    "        for m in xrange(layer_size):\n",
    "            circle = plt.Circle((n*h_spacing + left, layer_top - m*v_spacing), v_spacing/4.,\n",
    "                                color='w', ec='k', zorder=4)\n",
    "            ax.add_artist(circle)\n",
    "            if labels:\n",
    "                sub = str(m+1)\n",
    "                if n == 0:\n",
    "                    ax.text(n*h_spacing + left, layer_top - m*v_spacing, \n",
    "                            r\"$x_{:d}$\".format(m+1), \n",
    "                        ha='center', va='center', zorder=5)\n",
    "                else:\n",
    "                    sup = '('+ str(n+1) +')'                    \n",
    "                    ax.text(n*h_spacing + left, layer_top - m*v_spacing, \n",
    "                            r\"$a^{:d}_{:d}$\".format(n+1, m+1), \n",
    "                        ha='center', va='center', zorder=5)\n",
    "    # Edges\n",
    "    for n, (layer_size_a, layer_size_b) in enumerate(zip(layer_sizes[:-1], layer_sizes[1:])):\n",
    "        layer_top_a = v_spacing*(layer_size_a - 1)/2. + (top + bottom)/2.\n",
    "        layer_top_b = v_spacing*(layer_size_b - 1)/2. + (top + bottom)/2.\n",
    "        for m in xrange(layer_size_a):\n",
    "            for o in xrange(layer_size_b):\n",
    "                line = plt.Line2D([n*h_spacing + left, (n + 1)*h_spacing + left],\n",
    "                                  [layer_top_a - m*v_spacing, layer_top_b - o*v_spacing], c='k')\n",
    "                ax.add_artist(line)"
   ]
  },
  {
   "cell_type": "markdown",
   "metadata": {},
   "source": [
    "# Machine Learning - Week 4 & 5\n",
    "\n",
    "## Artificial Neural Network\n",
    "Useful for non-linear classification\n",
    "- especially when a large amount of features are being used, and higher order polynomials would be required in order to classifiy correctly.\n",
    "- useful for computer vision tasks.\n",
    "    \n",
    "Has origins in algorthims that attempt to mimic the human brain (hence the name \"neural networks\").\n",
    "\n",
    "### Model representation"
   ]
  },
  {
   "cell_type": "code",
   "execution_count": 39,
   "metadata": {
    "collapsed": false
   },
   "outputs": [
    {
     "data": {
      "image/png": "[encoded data removed]",
      "text/plain": [
       "<matplotlib.figure.Figure at 0x10dbdd390>"
      ]
     },
     "metadata": {},
     "output_type": "display_data"
    }
   ],
   "source": [
    "fig, ax = plt.subplots(1,1)\n",
    "ax.axis('off')\n",
    "draw_neural_net(ax, .1, .9, .1, .9, [3, 1, 1], labels=True)"
   ]
  },
  {
   "cell_type": "markdown",
   "metadata": {},
   "source": [
    "The $x_i$ values are the input values, the $a^2_1$ is the \"activation\" at layer 2, and $a^3_1$ is the \"output\", or the  hypothesis, $h_{\\theta}(x)$.  The \"activation\" is performed using the sigmoid activation function ($g(z)=\\frac{1}{1+e^{-z}}$).\n",
    "\n",
    "For a network, the representation could look something like this:"
   ]
  },
  {
   "cell_type": "code",
   "execution_count": 40,
   "metadata": {
    "collapsed": false
   },
   "outputs": [
    {
     "data": {
      "image/png": "[encoded data removed]",
      "text/plain": [
       "<matplotlib.figure.Figure at 0x10db49350>"
      ]
     },
     "metadata": {},
     "output_type": "display_data"
    }
   ],
   "source": [
    "fig, ax = plt.subplots(1,1)\n",
    "ax.axis('off')\n",
    "draw_neural_net(ax, .1, .9, .1, .9, [3, 3, 1], labels=True)"
   ]
  },
  {
   "cell_type": "markdown",
   "metadata": {},
   "source": [
    "This model consists of $L=3$ layers, the first ($x_i$) is the **input** layer, the second layer consists of $s_{l=2}=3$ units (or neurons) and is known as the **hidden** layer.  The third layer (the **output** layer) consists of $s_{l=3}=1$ units.  Each of the $a_i^l$ units represents the activation of unit $i$ in layer $l$, where the \"activation\" is the application of the sigmoid function.\n",
    "\n",
    "#### How it works\n",
    "At each layer $l$ there is a matrix of weights (or parameters), $\\Theta^l$ that controls the function mapping from layer $l$ to $l+1$. So,\n",
    "$$\n",
    "a^2_1 = g(\\Theta^1_{10}x_0 + \\Theta^1_{11}x_1 + \\Theta^1_{12}x_2 + \\Theta^1_{13}x_3)\n",
    "$$\n",
    "$$\n",
    "a^2_2 = g(\\Theta^1_{20}x_0 + \\Theta^1_{21}x_1 + \\Theta^1_{22}x_2 + \\Theta^1_{23}x_3)\n",
    "$$\n",
    "$$\n",
    "a^2_3 = g(\\Theta^1_{30}x_0 + \\Theta^1_{31}x_1 + \\Theta^1_{32}x_2 + \\Theta^1_{33}x_3)\n",
    "$$\n",
    "and,\n",
    "$$\n",
    "a^3_1 = h_\\Theta(x) = g(\\Theta^2_{10}a^2_0 + \\Theta^2_{11}a^2_1 + \\Theta^2_{12}a^2_2 + \\Theta^2_{13}a^2_3)\n",
    "$$\n",
    "\n",
    "The $x_0$ and $a^l_0$ terms are the bias correction terms, and are added at each layer.  If the network has $s_l$ units in layer $l$, and $s_{l+1}$ units in layer $l+1$, then $\\Theta^l$ will be of dimension $[s_{l+1}, (s_l + 1)]$\n",
    "\n",
    "#### Implementation\n",
    "\n",
    "The neural net is implemented via forward propagation, and can be vectorised.  Generally, if $a^{(l)} = [a^{(l)}_0, a^{(l)}_1,..., a_{s_j}^{(l)}]$ and $z^{(l)} = [z^{(l)}_1,..., z_{s_l}^{(l)}]$, $a^{(l)} = g(z^{(l)})$, where $z^{(l)} = \\Theta^{(l-1)}a^{(l-1)}$.  This can be thought of as the neural network learning its own features.  At this point the $\\Theta$ values must be known, they are learned via the method of back-propagation.  "
   ]
  },
  {
   "cell_type": "markdown",
   "metadata": {
    "collapsed": true
   },
   "source": [
    "## Learning in a Neural Network\n",
    "### Cost function\n",
    "The cost function for neural networks is similar to that for the logistic regression, with the addition of a sum over the number of classes, $k$.\n",
    "$$\n",
    "J(\\theta) = \\frac{-1}{m}[\\sum^m_{i=1} \\sum^K_{k=1} [y_k^{(i)} log(h_{\\theta}(x^{(i)})_k) - (1-y_k^{(i)}) log(1 - h_{\\theta}(x^{(i)})_k)] + \\frac{\\lambda}{2m} \\sum^{L-1}_{l=1} \\sum^{S_1}_{i=1} \\sum^{S_{1+1}}_{j=1}(\\Theta_{ji}^l)^2\n",
    "$$\n",
    "\n",
    "### Backpropagation\n",
    "To find the optimal weights (or parameters, $\\Theta$) for the classification, we need to minimise the cost function over $\\Theta$.  To do this we need the cost function, $J(\\Theta)$, and its gradient, $\\frac{\\partial J(\\Theta)}{\\partial \\Theta_{ij}}$.  The gradient is calculated via the method of back-propagation.  For the final layer ($l=L=3$), we can write (via the chain-rule):\n",
    "\n",
    "$$\n",
    "\\frac{\\partial J(\\Theta)}{\\partial \\Theta^{(L-1)}} = \n",
    "\\frac{\\partial J(\\Theta)}{\\partial a^{(L)}} \n",
    "\\frac{\\partial a^{(L)}}{\\partial z^{(L)}} \n",
    "\\frac{\\partial z^{(L)}}{\\partial \\Theta^{(L-1)}}\n",
    "$$\n",
    "\n",
    "and for the second layer (the hidden layer, $l=2$):\n",
    "\n",
    "\n",
    "$$\n",
    "\\frac{\\partial J(\\Theta)}{\\partial \\Theta^{(L-2)}} = \n",
    "\\frac{\\partial J(\\Theta)}{\\partial a^{(L)}} \n",
    "\\frac{\\partial a^{(L)}}{\\partial z^{(L)}} \n",
    "\\frac{\\partial z^{(L)}}{\\partial a^{(L-1)}}\n",
    "\\frac{\\partial a^{(L-1)}}{\\partial z^{(L-1)}}\n",
    "\\frac{\\partial z^{(L-1)}}{\\partial \\Theta^{(L-2)}}\n",
    "$$\n",
    "\n",
    "Generally, \n",
    "\n",
    "$$\n",
    "\\frac{\\partial z^{(l)}}{\\partial \\Theta^{(l-1)}} = \\frac{\\partial (\\Theta^{(l-1)}a^{(l-1)})}{\\partial \\Theta^{(l-1)}} = a^{(l-1)}\n",
    "$$\n",
    "\n",
    "and we set\n",
    "\n",
    "$$\n",
    "\\frac{\\partial J(\\Theta)}{\\partial a^{(L)}} \n",
    "\\frac{\\partial a^{(L)}}{\\partial z^{(L)}}  = \\delta^{(L)}\n",
    "$$\n",
    "\n",
    "and then\n",
    "$$\n",
    "\\delta^{(L)} \n",
    "\\frac{\\partial z^{(L)}}{\\partial a^{(L-1)}}\n",
    "\\frac{\\partial a^{(L-1)}}{\\partial z^{(L-1)}} = \\delta^{(L-1)}\n",
    "$$\n",
    "\n",
    "Given that $a = g(z)$, $\\frac{\\partial a}{\\partial z} = a(1-a)$, $\\delta^{(L)}$ reduces (via some calculus and substitutions) to:\n",
    "$$\n",
    "\\delta^{(L)} = a^{(L)} - y\n",
    "$$\n",
    "\n",
    "and, as \n",
    "\n",
    "$$\n",
    "\\frac{\\partial z^{(l)}}{\\partial a^{(l-1)}} = \\frac{\\partial (\\Theta^{(l-1)}a^{(l-1)})}{\\partial a^{(l-1)}} = \\Theta^{(l-1)}\n",
    "$$\n",
    "\n",
    "$\\delta^{(L-1)}$ reduces to:\n",
    "$$\n",
    "\\delta^{(L-1)} = \\delta^{(L)}\\Theta^{(L-1)} a^{(L-1)}(1-a^{(L-1)})\n",
    "$$\n",
    "\n",
    "So, putting it all together we get (for $L=3$),\n",
    "$$\n",
    "\\frac{\\partial J(\\Theta)}{\\partial \\Theta^{(2)}} = \\delta^{(3)}a^{(2)}\n",
    "$$\n",
    "and,\n",
    "$$\n",
    "\\frac{\\partial J(\\Theta)}{\\partial \\Theta^{(1)}} = \\delta^{(2)}a^{(1)}\n",
    "$$\n",
    "\n",
    "Easy!  This could then be extended to networks with more layers fairly easily."
   ]
  },
  {
   "cell_type": "code",
   "execution_count": null,
   "metadata": {
    "collapsed": true
   },
   "outputs": [],
   "source": []
  }
 ],
 "metadata": {
  "anaconda-cloud": {},
  "kernelspec": {
   "display_name": "Python [Root]",
   "language": "python",
   "name": "Python [Root]"
  },
  "language_info": {
   "codemirror_mode": {
    "name": "ipython",
    "version": 2
   },
   "file_extension": ".py",
   "mimetype": "text/x-python",
   "name": "python",
   "nbconvert_exporter": "python",
   "pygments_lexer": "ipython2",
   "version": "2.7.12"
  }
 },
 "nbformat": 4,
 "nbformat_minor": 0
}
