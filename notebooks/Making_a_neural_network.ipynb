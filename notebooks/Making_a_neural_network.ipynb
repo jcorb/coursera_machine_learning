{
 "cells": [
  {
   "cell_type": "code",
   "execution_count": 1,
   "metadata": {
    "collapsed": false
   },
   "outputs": [],
   "source": [
    "%matplotlib inline"
   ]
  },
  {
   "cell_type": "code",
   "execution_count": 2,
   "metadata": {
    "collapsed": false
   },
   "outputs": [],
   "source": [
    "import numpy as np\n",
    "import matplotlib.pyplot as plt\n",
    "import scipy.io as scipy_io\n",
    "from sklearn.metrics import confusion_matrix\n",
    "from sklearn.model_selection import train_test_split\n",
    "from scipy.optimize import fmin_cg"
   ]
  },
  {
   "cell_type": "code",
   "execution_count": 3,
   "metadata": {
    "collapsed": true
   },
   "outputs": [],
   "source": [
    "def draw_neural_net(ax, left, right, bottom, top, layer_sizes, labels=False):\n",
    "    '''\n",
    "    Draw a neural network cartoon using matplotilb.\n",
    "    \n",
    "    :usage:\n",
    "        >>> fig = plt.figure(figsize=(12, 12))\n",
    "        >>> draw_neural_net(fig.gca(), .1, .9, .1, .9, [4, 7, 2])\n",
    "    \n",
    "    :parameters:\n",
    "        - ax : matplotlib.axes.AxesSubplot\n",
    "            The axes on which to plot the cartoon (get e.g. by plt.gca())\n",
    "        - left : float\n",
    "            The center of the leftmost node(s) will be placed here\n",
    "        - right : float\n",
    "            The center of the rightmost node(s) will be placed here\n",
    "        - bottom : float\n",
    "            The center of the bottommost node(s) will be placed here\n",
    "        - top : float\n",
    "            The center of the topmost node(s) will be placed here\n",
    "        - layer_sizes : list of int\n",
    "            List of layer sizes, including input and output dimensionality\n",
    "    '''\n",
    "    n_layers = len(layer_sizes)\n",
    "    v_spacing = (top - bottom)/float(max(layer_sizes))\n",
    "    h_spacing = (right - left)/float(len(layer_sizes) - 1)\n",
    "    # Nodes\n",
    "    for n, layer_size in enumerate(layer_sizes):\n",
    "        layer_top = v_spacing*(layer_size - 1)/2. + (top + bottom)/2.\n",
    "        for m in xrange(layer_size):\n",
    "            circle = plt.Circle((n*h_spacing + left, layer_top - m*v_spacing), v_spacing/4.,\n",
    "                                color='w', ec='k', zorder=4)\n",
    "            ax.add_artist(circle)\n",
    "            if labels:\n",
    "                sub = str(m+1)\n",
    "                if n == 0:\n",
    "                    ax.text(n*h_spacing + left, layer_top - m*v_spacing, \n",
    "                            r\"$x_{:d}$\".format(m+1), \n",
    "                        ha='center', va='center', zorder=5)\n",
    "                else:\n",
    "                    sup = '('+ str(n+1) +')'                    \n",
    "                    ax.text(n*h_spacing + left, layer_top - m*v_spacing, \n",
    "                            r\"$a^{:d}_{:d}$\".format(n+1, m+1), \n",
    "                        ha='center', va='center', zorder=5)\n",
    "    # Edges\n",
    "    for n, (layer_size_a, layer_size_b) in enumerate(zip(layer_sizes[:-1], layer_sizes[1:])):\n",
    "        layer_top_a = v_spacing*(layer_size_a - 1)/2. + (top + bottom)/2.\n",
    "        layer_top_b = v_spacing*(layer_size_b - 1)/2. + (top + bottom)/2.\n",
    "        for m in xrange(layer_size_a):\n",
    "            for o in xrange(layer_size_b):\n",
    "                line = plt.Line2D([n*h_spacing + left, (n + 1)*h_spacing + left],\n",
    "                                  [layer_top_a - m*v_spacing, layer_top_b - o*v_spacing], c='k')\n",
    "                ax.add_artist(line)"
   ]
  },
  {
   "cell_type": "markdown",
   "metadata": {},
   "source": [
    "# Implementing a Neural Network\n",
    "The assignments for the Coursera Machine Learning course require you to implement a neural network using the feedfoward and backpropagation algorithms.  I didn't want to submit the assignments in matlab/octave, so I decided just to write them up in Python and post as a blog post.\n",
    "\n",
    "## The data\n",
    "The dataset was provided as part of the assignment, essentially it is a number of greyscale images of handwritten digits (0-9), along with the correct classification for that image.  The images look like this: "
   ]
  },
  {
   "cell_type": "code",
   "execution_count": 24,
   "metadata": {
    "collapsed": false
   },
   "outputs": [],
   "source": [
    "pix_file = '../assignments/machine-learning-ex4/ex4/ex4data1.mat'\n",
    "mat_in = scipy_io.loadmat(pix_file)\n",
    "X_in = mat_in['X']\n",
    "y = np.squeeze(mat_in['y'])\n",
    "# Split into training and testing datasets\n",
    "X_train, X_test, y_train, y_test = train_test_split(X_in, y, test_size=0.2)\n"
   ]
  },
  {
   "cell_type": "code",
   "execution_count": 25,
   "metadata": {
    "collapsed": false
   },
   "outputs": [
    {
     "data": {
      "image/png": "[encoded data removed]",
      "text/plain": [
       "<matplotlib.figure.Figure at 0x114fc4fd0>"
      ]
     },
     "metadata": {},
     "output_type": "display_data"
    }
   ],
   "source": [
    "fig,ax = plt.subplots(5,5, figsize=(5,5))\n",
    "axs = iter(np.ravel(ax))\n",
    "for i in np.random.randint(0, 3000, 25):\n",
    "    ax = next(axs)\n",
    "    ax.imshow(X_train[i,:].reshape(20,20).T, cmap='Greys');\n",
    "    ax.set_axis_off();"
   ]
  },
  {
   "cell_type": "markdown",
   "metadata": {},
   "source": [
    "## The neural network\n",
    "The network I am using for this example consists of 3 layers - an input layer, an output layer, and one hidden layer.  The input layer consists of 400 input nodes (each pixel in an image, and there is actually 401 inputs when the bias, $x_0=1$, term is included).  I'm using 25 nodes (or neurons) in the hidden layer (this also gets a bias term added, $a_0^{(2)}=1$), and the output layer consists of 10 nodes - one for each of the classes.\n",
    "\n",
    "### Feed-forward\n",
    "The feed-forward calculation takes the inputs values, and applies the activation function (in this case the sigmoid) using the provided weights ($\\Theta$).  These values are then \"fed-forward\", used as the inputs to the next activation layer.  If we have a simple neural net, consisting of 3 layers with sizes 3, 3, 1 such as this: "
   ]
  },
  {
   "cell_type": "code",
   "execution_count": 26,
   "metadata": {
    "collapsed": false
   },
   "outputs": [
    {
     "data": {
      "image/png": "[encoded data removed]",
      "text/plain": [
       "<matplotlib.figure.Figure at 0x114fc45d0>"
      ]
     },
     "metadata": {},
     "output_type": "display_data"
    }
   ],
   "source": [
    "fig, ax = plt.subplots(1,1)\n",
    "ax.axis('off')\n",
    "draw_neural_net(ax, .1, .9, .1, .9, [3, 3, 1], labels=True)"
   ]
  },
  {
   "cell_type": "markdown",
   "metadata": {},
   "source": [
    "Then we can calculate the values:\n",
    "\n",
    "$$\n",
    "a^2_1 = g(\\Theta^1_{10}x_0 + \\Theta^1_{11}x_1 + \\Theta^1_{12}x_2 + \\Theta^1_{13}x_3)\n",
    "$$\n",
    "$$\n",
    "a^2_2 = g(\\Theta^1_{20}x_0 + \\Theta^1_{21}x_1 + \\Theta^1_{22}x_2 + \\Theta^1_{23}x_3)\n",
    "$$\n",
    "$$\n",
    "a^2_3 = g(\\Theta^1_{30}x_0 + \\Theta^1_{31}x_1 + \\Theta^1_{32}x_2 + \\Theta^1_{33}x_3)\n",
    "$$\n",
    "and,\n",
    "$$\n",
    "a^3_1 = h_\\Theta(x) = g(\\Theta^2_{10}a^2_0 + \\Theta^2_{11}a^2_1 + \\Theta^2_{12}a^2_2 + \\Theta^2_{13}a^2_3)\n",
    "$$\n",
    "\n",
    "Where $\\Theta^l$ for $l=1,2$ are the weights mapping from layer $l$ to $l+1$ and $g(z)$ is the activation function (the sigmoid function).  This can be vectorised fairly easily. Generally, if $a^{(l)} = [a^{(l)}_0, a^{(l)}_1,..., a_{s_j}^{(l)}]$ and $z^{(l)} = [z^{(l)}_1,..., z_{s_l}^{(l)}]$, $a^{(l)} = g(z^{(l)})$, where $z^{(l)} = \\Theta^{(l-1)}a^{(l-1)}$.  This is implemented in the `feedforward()` function below."
   ]
  },
  {
   "cell_type": "code",
   "execution_count": 27,
   "metadata": {
    "collapsed": true
   },
   "outputs": [],
   "source": [
    "# Some helper functions\n",
    "def add_bias_term(a):\n",
    "    '''Inserts a 1 to the firt column of the array '''\n",
    "    m,n = a.shape\n",
    "    b = np.ones([m, n+1])\n",
    "    b[:,1:] = a\n",
    "    return b\n",
    "\n",
    "def x_to_theta(x, s_1, s_2, s_3):\n",
    "    '''Takes the vector of weights and unravels to the required array shapes'''\n",
    "    Theta1 = x[:s_2*(s_1+1)].reshape([s_2, s_1+1])\n",
    "    Theta2 = x[s_2*(s_1+1):].reshape([s_3, s_2+1])\n",
    "    return Theta1, Theta2\n",
    "\n",
    "def sigmoid(z):\n",
    "    return 1./(1. + np.exp(-1.*z))\n",
    "\n",
    "def sigmoidGradient(z):\n",
    "    return sigmoid(z) * (1. - sigmoid(z))"
   ]
  },
  {
   "cell_type": "code",
   "execution_count": 28,
   "metadata": {
    "collapsed": true
   },
   "outputs": [],
   "source": [
    "def feedforward(X, n_layers, theta=None):\n",
    "    '''performs the feedfoward calculation in the neural net using the sigmoid activation function\n",
    "    inputs:\n",
    "        X: input variables\n",
    "        n_layers: total number of layers in the neural network\n",
    "        theta: list of length n_layers-1 containing the weights for each neuron for each \n",
    "                activation layer (1,..., n_layers)\n",
    "    returns:\n",
    "        a_out: list of length n_layers-1 containg the computed activations for each layer (1,...,n_layers)\n",
    "    '''\n",
    "    \n",
    "    a_outs = []\n",
    "    \n",
    "    #check for theta\n",
    "    if theta is not None:\n",
    "        # check theta lengths\n",
    "        if len(theta) == n_layers-1:\n",
    "            #calculate the activations for each of the layers\n",
    "            for j in range(n_layers-1):\n",
    "                # add the bias terms\n",
    "                if j==0:\n",
    "                    # activation is peformed on the input X values\n",
    "                    a = add_bias_term(X)                  \n",
    "                else:\n",
    "                    # activation is performed on the previous layers activation\n",
    "                    a = add_bias_term(a_out)\n",
    "                \n",
    "                # get the number of neurons for each layer \n",
    "                theta_j = theta[j]              \n",
    "                # calculate the activation\n",
    "                a_out = sigmoid(np.dot(a, theta_j.T)) \n",
    "                a_outs.append(a_out)\n",
    "                \n",
    "            return a_outs\n",
    "        else:\n",
    "            print 'theta list is of wrong dimension'\n",
    "            return None\n",
    "    else:\n",
    "        print 'need to provide thetas'\n",
    "        return None"
   ]
  },
  {
   "cell_type": "markdown",
   "metadata": {},
   "source": [
    "### Back-propagation\n",
    "In order for the neural net to \"learn\" the optimal weights (or parameters, $\\Theta$) for the classification, we need to minimise the cost function over $\\Theta$.  To do this we need the cost function, $J(\\Theta)$, and its gradient, $\\frac{\\partial J(\\Theta)}{\\partial \\Theta_{ij}}$ \n",
    "#### Cost function\n",
    "\n",
    "The cost function we're using for this neural network is similar to that for the logistic regression, with the addition of a sum over the number of classes, $k$.\n",
    "$$\n",
    "J(\\theta) = \\frac{-1}{m}[\\sum^m_{i=1} \\sum^K_{k=1} [y_k^{(i)} log(h_{\\theta}(x^{(i)})_k) - (1-y_k^{(i)}) log(1 - h_{\\theta}(x^{(i)})_k)] + \\frac{\\lambda}{2m} \\sum^{L-1}_{l=1} \\sum^{S_1}_{i=1} \\sum^{S_{1+1}}_{j=1}(\\Theta_{ji}^l)^2\n",
    "$$\n",
    "\n",
    "This is implemented in the `nn_costfunction()` function below."
   ]
  },
  {
   "cell_type": "code",
   "execution_count": 29,
   "metadata": {
    "collapsed": false
   },
   "outputs": [],
   "source": [
    "# functions to use with scipy's fmin_cg\n",
    "def nn_costfunction(x, *args):\n",
    "    '''Calculates the cost function value for the neural net\n",
    "        inputs: \n",
    "            x: vector containing weights\n",
    "            args: tuple containing:\n",
    "                    y: feature vector\n",
    "                    X_f: input variables\n",
    "                    n_layers: number of layers in the neural net\n",
    "                    k: number of classes\n",
    "                    s_1: number of variables for each input\n",
    "                    s_2: number of neurons in layer 2\n",
    "                    s_3: number of neurons in layer 3\n",
    "                    lamb: lambda weigting for regularisation\n",
    "        return:\n",
    "            J_theta: value of the cost function\n",
    "            \n",
    "    TODO: make the code insensitive to the number of layers\n",
    "    '''\n",
    "    y, X_f, n_layers, k, s_1, s_2, s_3, lamb = args \n",
    "    \n",
    "    # create an [m, k] y (feature) array, where the column index \n",
    "    # corresponding to the class of that row is set to 1\n",
    "    m = y.size\n",
    "    y_exp = np.zeros([m, k])\n",
    "    y_exp[range(m),y-1] = 1\n",
    "    \n",
    "    # convert the input x vector to the theta arrays\n",
    "    Theta1, Theta2 = x_to_theta(x, s_1, s_2, s_3)\n",
    "    \n",
    "    # compute the activations using the feedfoward function\n",
    "    a_outs = feedforward(X_f, n_layers=n_layers, theta=[Theta1, Theta2])\n",
    "    \n",
    "    # the final classification is set to the last entry in a_outs\n",
    "    h_theta_x = a_outs[n_layers - 2]\n",
    "    h_theta_x[h_theta_x==1] = 0.9999 #just in case.  If these are excatly 1 the log fails     \n",
    "    \n",
    "    # calclute the cost function\n",
    "    J_theta = np.sum(-1.* y_exp * np.log(h_theta_x) - (1. - y_exp) * np.log(1. - h_theta_x))/float(m)\n",
    "\n",
    "    #include regularization\n",
    "    if lamb is not None:\n",
    "        J_theta = J_theta + (lamb/(2*m)) * (np.sum(Theta1[:,1:]**2) + np.sum(Theta2[:,1:]**2))   \n",
    "   \n",
    "    return J_theta\n",
    "    \n"
   ]
  },
  {
   "cell_type": "markdown",
   "metadata": {},
   "source": [
    "####  Gradient\n",
    "The gradient is calculated via the method of back-propagation.  The basic idea behind this approach is that the error between the actual values and the predicted values (as determined by the cost function) is propagated back through the neural network, starting from the final layer.  The weight connecting each node (or neuron) is assigned a portion of the error, based upon the gradient of the cost function.  \n",
    "\n",
    "Starting at the final layer ($l=L=3$ in this case), we can write (via the chain-rule):\n",
    "\n",
    "$$\n",
    "\\frac{\\partial J(\\Theta)}{\\partial \\Theta^{(L-1)}} = \n",
    "\\frac{\\partial J(\\Theta)}{\\partial a^{(L)}} \n",
    "\\frac{\\partial a^{(L)}}{\\partial z^{(L)}} \n",
    "\\frac{\\partial z^{(L)}}{\\partial \\Theta^{(L-1)}}\n",
    "$$\n",
    "\n",
    "and for the second layer (the hidden layer, $l=2$):\n",
    "\n",
    "\n",
    "$$\n",
    "\\frac{\\partial J(\\Theta)}{\\partial \\Theta^{(L-2)}} = \n",
    "\\frac{\\partial J(\\Theta)}{\\partial a^{(L)}} \n",
    "\\frac{\\partial a^{(L)}}{\\partial z^{(L)}} \n",
    "\\frac{\\partial z^{(L)}}{\\partial a^{(L-1)}}\n",
    "\\frac{\\partial a^{(L-1)}}{\\partial z^{(L-1)}}\n",
    "\\frac{\\partial z^{(L-1)}}{\\partial \\Theta^{(L-2)}}\n",
    "$$\n",
    "\n",
    "Generally, \n",
    "\n",
    "$$\n",
    "\\frac{\\partial z^{(l)}}{\\partial \\Theta^{(l-1)}} = \\frac{\\partial (\\Theta^{(l-1)}a^{(l-1)})}{\\partial \\Theta^{(l-1)}} = a^{(l-1)}\n",
    "$$\n",
    "\n",
    "and we set\n",
    "\n",
    "$$\n",
    "\\frac{\\partial J(\\Theta)}{\\partial a^{(L)}} \n",
    "\\frac{\\partial a^{(L)}}{\\partial z^{(L)}}  = \\delta^{(L)}\n",
    "$$\n",
    "\n",
    "and then\n",
    "$$\n",
    "\\delta^{(L)} \n",
    "\\frac{\\partial z^{(L)}}{\\partial a^{(L-1)}}\n",
    "\\frac{\\partial a^{(L-1)}}{\\partial z^{(L-1)}} = \\delta^{(L-1)}\n",
    "$$\n",
    "\n",
    "Given that $a = g(z)$ and, $\\frac{\\partial a}{\\partial z} = a(1-a)$, $\\delta^{(L)}$ reduces (via some calculus and substitutions) to:\n",
    "$$\n",
    "\\delta^{(L)} = a^{(L)} - y        \n",
    "$$\n",
    "\n",
    "and, as \n",
    "\n",
    "$$\n",
    "\\frac{\\partial z^{(l)}}{\\partial a^{(l-1)}} = \\frac{\\partial (\\Theta^{(l-1)}a^{(l-1)})}{\\partial a^{(l-1)}} = \\Theta^{(l-1)}\n",
    "$$\n",
    "\n",
    "$\\delta^{(L-1)}$ reduces to:\n",
    "$$\n",
    "\\delta^{(L-1)} = \\delta^{(L)}\\Theta^{(L-1)} a^{(L-1)}(1-a^{(L-1)})\n",
    "$$\n",
    "\n",
    "So, putting it all together we get (for $L=3$),\n",
    "$$\n",
    "\\frac{\\partial J(\\Theta)}{\\partial \\Theta^{(2)}} = \\delta^{(3)}a^{(2)}\n",
    "$$\n",
    "and,\n",
    "$$\n",
    "\\frac{\\partial J(\\Theta)}{\\partial \\Theta^{(1)}} = \\delta^{(2)}a^{(1)}\n",
    "$$\n",
    "\n",
    "This is implemented in `nn_grad()` below.  This has not been optimised in anyway (pretty sure it can be vectorized to remove the loop), but it works and gives a good idea of what the algorithm is doing."
   ]
  },
  {
   "cell_type": "code",
   "execution_count": 30,
   "metadata": {
    "collapsed": true
   },
   "outputs": [],
   "source": [
    "def nn_grad(x, *args):\n",
    "    '''\n",
    "    Performs the back-propagation algorithm in order to calculate the partial differntial of the\n",
    "    cost function.\n",
    "        inputs: \n",
    "            x: vector containing weights\n",
    "            args: tuple containing:\n",
    "                    y: feature vector\n",
    "                    X_f: input variables\n",
    "                    n_layers: number of layers in the neural net\n",
    "                    k: number of classes\n",
    "                    s_1: number of variables for each input\n",
    "                    s_2: number of neurons in layer 2\n",
    "                    s_3: number of neurons in layer 3\n",
    "                    lamb: lambda weigting for regularisation\n",
    "        return:\n",
    "            J_theta: value of the cost function\n",
    "            \n",
    "    TODO: make the code insensitive to the number of layers\n",
    "    '''\n",
    "    \n",
    "    y, X_f, n_layers, k, s_1, s_2, s_3, lamb = args \n",
    "    \n",
    "    # create an [m, k] y (feature) array, where the column index \n",
    "    # corresponding to the class of that row is set to 1\n",
    "    m = y.size\n",
    "    y_exp = np.zeros([m, k])\n",
    "    y_exp[range(m),y-1] = 1\n",
    "    \n",
    "    # convert the input x vector to the theta arrays\n",
    "    Theta1, Theta2 = x_to_theta(x, s_1, s_2, s_3)\n",
    "    \n",
    "    # initialise the Del arrays (used to store the accumulated cost function gradients)\n",
    "    Del_1 = np.zeros([s_2, s_1+1])\n",
    "    Del_2 = np.zeros([s_3, s_2+1])\n",
    "    \n",
    "    # loop over the input variables\n",
    "    for t in range(m):\n",
    "        \n",
    "        # this just makes the input variable a [1,s_1] vector instead of a [s_1,]\n",
    "        x_in = np.expand_dims(X_f[t,:], axis=0)\n",
    "        \n",
    "        # compute the activations\n",
    "        a_outs = feedforward(x_in, n_layers=n_layers, theta=[Theta1, Theta2])\n",
    "        a_3 = a_outs[1]\n",
    "        a_2 = add_bias_term(a_outs[0])\n",
    "        x_in = add_bias_term(x_in)\n",
    "        \n",
    "        # compute the \"error\" between the predicted values and actual values\n",
    "        delta_3 = a_3 - y_exp[t,:]\n",
    "        \n",
    "        # apportion the error due to each of the neurons in layer 2 \n",
    "        delta_2 = np.dot(delta_3, Theta2) * a_2 * (1. - a_2)\n",
    "        \n",
    "        # calculate and accumulate the gradients\n",
    "        Del_2 += np.dot(delta_3.T, a_2)\n",
    "        Del_1 += np.dot(delta_2[:,1:].T, x_in)\n",
    "    \n",
    "    Del_1 = Del_1/m\n",
    "    Del_2 = Del_2/m\n",
    "    \n",
    "    # apply regularisation\n",
    "    if lamb is not None:\n",
    "        Del_1[:,1:] =  Del_1[:,1:] + lamb/(2. * m) * Theta1[:,1:]\n",
    "        Del_2[:,1:] =  Del_2[:,1:] + lamb/(2. * m) * Theta2[:,1:]\n",
    "     \n",
    "    grad_out = np.zeros(Del_1.size + Del_2.size)\n",
    "    grad_out[:s_2*(s_1+1)] = Del_1.ravel()\n",
    "    grad_out[s_2*(s_1+1):] = Del_2.ravel()\n",
    "    \n",
    "    return grad_out"
   ]
  },
  {
   "cell_type": "markdown",
   "metadata": {},
   "source": [
    "### Running the neural network\n",
    "The neural network is initialised using randomly assigned arrays for `initTheta1` and `initTheta2`, and the scipy routine `fmin_cg` is used to iterate through and minimise the cost function. "
   ]
  },
  {
   "cell_type": "code",
   "execution_count": 45,
   "metadata": {
    "collapsed": false
   },
   "outputs": [
    {
     "name": "stdout",
     "output_type": "stream",
     "text": [
      "Warning: Maximum number of iterations has been exceeded.\n",
      "         Current function value: 0.079758\n",
      "         Iterations: 400\n",
      "         Function evaluations: 1349\n",
      "         Gradient evaluations: 1349\n"
     ]
    }
   ],
   "source": [
    "#number of classes\n",
    "k = 10\n",
    "\n",
    "# input sizes\n",
    "s_1 = 400\n",
    "s_2 = 25\n",
    "s_3 = 10\n",
    "\n",
    "# set regularization\n",
    "lamb = 0.1\n",
    "\n",
    "# number of layers\n",
    "n_layers = 3\n",
    "\n",
    "#arguments that get used in the cost and grad functions \n",
    "args = (y_train, X_train, n_layers, k, s_1, s_2, s_3, lamb)\n",
    "\n",
    "# initialise the Theta arrays with some random values\n",
    "initE = 0.3\n",
    "# np.random.seed(0)\n",
    "initTheta1 = np.random.rand(s_2, s_1+1) * 2 * initE - initE\n",
    "# np.random.seed(0)\n",
    "initTheta2 = np.random.rand(s_3, s_2+1) * 2 * initE - initE\n",
    "\n",
    "#put the theta arrays into a vector\n",
    "x = np.zeros(initTheta1.size + initTheta2.size)\n",
    "x[:initTheta1.size] = initTheta1.ravel()\n",
    "x[initTheta1.size:] = initTheta2.ravel()\n",
    "\n",
    "# print nn_costfunction(x, *args)\n",
    "# print nn_grad(x, *args)\n",
    "\n",
    "# run the optimisation code\n",
    "theta_out = fmin_cg(nn_costfunction, x, fprime=nn_grad, args=args, maxiter=400)"
   ]
  },
  {
   "cell_type": "markdown",
   "metadata": {},
   "source": [
    "The minimisation function returns the optimal $\\Theta$ arrays, we can then take those values and feed them through the neural network to get $h(\\Theta)_x$, our predicted classification. "
   ]
  },
  {
   "cell_type": "code",
   "execution_count": 46,
   "metadata": {
    "collapsed": false
   },
   "outputs": [],
   "source": [
    "Theta1, Theta2 = x_to_theta(theta_out, s_1, s_2, s_3)\n",
    "a_outs = feedforward(X_test, n_layers=n_layers, theta=[Theta1, Theta2])\n",
    "h_theta_x = a_outs[1]\n",
    "#find the most-likely class (maximum value in row), adds 1 because index 0 is class 1, not class 0.\n",
    "y_pred = np.argmax(h_theta_x, axis=1) + 1 "
   ]
  },
  {
   "cell_type": "code",
   "execution_count": 47,
   "metadata": {
    "collapsed": false
   },
   "outputs": [
    {
     "name": "stdout",
     "output_type": "stream",
     "text": [
      "Agreement rate 92.80%\n",
      "Confusion matrix:\n"
     ]
    },
    {
     "data": {
      "text/plain": [
       "array([[101,   1,   0,   0,   3,   0,   0,   2,   0,   0],\n",
       "       [  1,  98,   0,   0,   0,   2,   1,   3,   1,   0],\n",
       "       [  0,   0,  79,   1,   1,   0,   0,   2,   0,   0],\n",
       "       [  0,   0,   0,  99,   0,   4,   0,   0,   2,   0],\n",
       "       [  0,   0,   3,   0,  92,   1,   0,   1,   1,   0],\n",
       "       [  1,   1,   0,   0,   0,  91,   0,   1,   0,   1],\n",
       "       [  1,   2,   0,   0,   0,   1,  87,   1,   4,   1],\n",
       "       [  0,   1,   0,   0,   2,   1,   3,  95,   5,   1],\n",
       "       [  1,   0,   1,   6,   0,   0,   3,   2,  92,   1],\n",
       "       [  0,   0,   0,   0,   1,   0,   0,   0,   0,  94]])"
      ]
     },
     "execution_count": 47,
     "metadata": {},
     "output_type": "execute_result"
    }
   ],
   "source": [
    "print 'Agreement rate {0:2.2f}%'.format( 100.0*np.sum(y_test==y_pred)/float(y_test.size))\n",
    "print 'Confusion matrix:'\n",
    "confusion_matrix(y_test, y_pred)"
   ]
  },
  {
   "cell_type": "markdown",
   "metadata": {},
   "source": [
    "This shows we get a ~93% agreement between the predicted and actual classifications.  Its OK agreement, it might be possible to improve the agreement by increasing the number of neurons, layers, playing with the regularisation value, and running it for more iterations.  But it has been interesting building the neural network, and has given me a goodinsight into the mechanics of a basic neural network.     "
   ]
  },
  {
   "cell_type": "code",
   "execution_count": null,
   "metadata": {
    "collapsed": true
   },
   "outputs": [],
   "source": []
  }
 ],
 "metadata": {
  "anaconda-cloud": {},
  "kernelspec": {
   "display_name": "Python [Root]",
   "language": "python",
   "name": "Python [Root]"
  },
  "language_info": {
   "codemirror_mode": {
    "name": "ipython",
    "version": 2
   },
   "file_extension": ".py",
   "mimetype": "text/x-python",
   "name": "python",
   "nbconvert_exporter": "python",
   "pygments_lexer": "ipython2",
   "version": "2.7.12"
  }
 },
 "nbformat": 4,
 "nbformat_minor": 0
}
